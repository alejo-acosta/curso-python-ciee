{
 "cells": [
  {
   "cell_type": "markdown",
   "metadata": {},
   "source": [
    "# Ejemplo: Simulación Gini\n",
    "\n",
    "Elaborado por: Alejandro Acosta"
   ]
  },
  {
   "cell_type": "code",
   "execution_count": 1,
   "metadata": {},
   "outputs": [],
   "source": [
    "import pandas as pd\n",
    "import numpy as np\n",
    "import matplotlib.pyplot as plt\n",
    "import seaborn as sns\n",
    "\n",
    "from ipywidgets import interact, interactive, fixed, interact_manual\n",
    "import ipywidgets as widgets\n",
    "\n",
    "plt.rcParams['figure.dpi'] = 120\n",
    "plt.rcParams['savefig.dpi'] = 120\n",
    "\n",
    "sns.set_style(\"whitegrid\")"
   ]
  },
  {
   "cell_type": "code",
   "execution_count": 2,
   "metadata": {},
   "outputs": [],
   "source": [
    "def simul_income(mean=1000, sd=50, size=10000):\n",
    "    return sorted(np.random.normal(mean, sd, size).clip(0))\n",
    "\n",
    "\n"
   ]
  },
  {
   "cell_type": "code",
   "execution_count": 3,
   "metadata": {},
   "outputs": [],
   "source": [
    "def plot_income(**kwargs):\n",
    "    income = simul_income(**kwargs)\n",
    "    fig = plt.figure()\n",
    "    sns.histplot(income, stat='frequency', element='poly', bins=30)\n",
    "    plt.xlim(0,2000)\n",
    "    plt.ylim(0,80)\n",
    "    plt.close(fig)\n",
    "    return fig"
   ]
  },
  {
   "cell_type": "code",
   "execution_count": 4,
   "metadata": {},
   "outputs": [],
   "source": [
    "def plot_gini(**kwargs):\n",
    "    income = simul_income(**kwargs)\n",
    "    total_income = sum(income)\n",
    "    bins = np.linspace(0,100, 20)\n",
    "    x = [np.percentile(income, i) for i in bins]\n",
    "    x2 = [i/100 for i in bins]\n",
    "    y = [np.round(sum(income*np.array([i<=x[j] for i in income]))/total_income,2) for j in range(len(bins))]\n",
    "\n",
    "    fig=plt.figure()\n",
    "    sns.lineplot(x=x2,y=x2)\n",
    "    sns.lineplot(x=x2,y=y, color='red')\n",
    "    plt.fill_between(x2,x2,y, color='red', alpha=0.25)\n",
    "    plt.ylim(0,1)\n",
    "    plt.xlim(0,1)\n",
    "    plt.close(fig)\n",
    "    return fig"
   ]
  },
  {
   "cell_type": "code",
   "execution_count": 5,
   "metadata": {},
   "outputs": [],
   "source": [
    "def plot_both(**kwargs):\n",
    "    income = simul_income(**kwargs)\n",
    "    total_income = sum(income)\n",
    "    bins = np.linspace(0, 100, 20)\n",
    "    xaux = [np.percentile(income, i) for i in bins]\n",
    "    x = [i/100 for i in bins]\n",
    "    y = [np.round(sum(income*np.array([i <= xaux[j] for i in income])\n",
    "                      )/total_income, 2) for j in range(len(bins))]\n",
    "\n",
    "    fig, ax = plt.subplots(1, 2, sharex=False, sharey=False, figsize=(10,5))\n",
    "    sns.histplot(income, stat='frequency', element='poly', bins=30, ax=ax[0])\n",
    "    ax[0].set_xlim([0, 2000])\n",
    "    ax[0].set_ylim([0, 80])\n",
    "\n",
    "    \n",
    "    sns.lineplot(x=x, y=x, ax=ax[1])\n",
    "    sns.lineplot(x=x, y=y, color='red', ax=ax[1])\n",
    "    plt.fill_between(x, x, y, color='red', alpha=0.25)\n",
    "    ax[1].set_xlim([0, 1])\n",
    "    ax[1].set_ylim([0, 1])\n",
    "\n",
    "    plt.close(fig)\n",
    "\n",
    "    return fig\n"
   ]
  },
  {
   "cell_type": "code",
   "execution_count": 6,
   "metadata": {},
   "outputs": [
    {
     "data": {
      "application/vnd.jupyter.widget-view+json": {
       "model_id": "b58e972adbfc46828b02db1f239d61f2",
       "version_major": 2,
       "version_minor": 0
      },
      "text/plain": [
       "interactive(children=(IntSlider(value=200, description='sd', max=400, min=1), Output()), _dom_classes=('widget…"
      ]
     },
     "metadata": {},
     "output_type": "display_data"
    },
    {
     "data": {
      "text/plain": [
       "<function __main__.plot_income(**kwargs)>"
      ]
     },
     "execution_count": 6,
     "metadata": {},
     "output_type": "execute_result"
    }
   ],
   "source": [
    "interact(plot_income, sd=(1,400))"
   ]
  },
  {
   "cell_type": "code",
   "execution_count": 7,
   "metadata": {},
   "outputs": [
    {
     "data": {
      "application/vnd.jupyter.widget-view+json": {
       "model_id": "b910fdbce4754833956ce1fd920ff534",
       "version_major": 2,
       "version_minor": 0
      },
      "text/plain": [
       "interactive(children=(IntSlider(value=400, description='sd', max=800, min=1), Output()), _dom_classes=('widget…"
      ]
     },
     "metadata": {},
     "output_type": "display_data"
    },
    {
     "data": {
      "text/plain": [
       "<function __main__.plot_both(**kwargs)>"
      ]
     },
     "execution_count": 7,
     "metadata": {},
     "output_type": "execute_result"
    }
   ],
   "source": [
    "interact(plot_both, sd=(1,800))"
   ]
  },
  {
   "cell_type": "code",
   "execution_count": null,
   "metadata": {},
   "outputs": [],
   "source": []
  }
 ],
 "metadata": {
  "kernelspec": {
   "display_name": "Python 3 (ipykernel)",
   "language": "python",
   "name": "python3"
  },
  "language_info": {
   "codemirror_mode": {
    "name": "ipython",
    "version": 3
   },
   "file_extension": ".py",
   "mimetype": "text/x-python",
   "name": "python",
   "nbconvert_exporter": "python",
   "pygments_lexer": "ipython3",
   "version": "3.11.3"
  },
  "vscode": {
   "interpreter": {
    "hash": "0d9db2acd79fc802845d33905a24c499b3c5b632a8047d75c602e59109c51bd3"
   }
  },
  "widgets": {
   "application/vnd.jupyter.widget-state+json": {
    "state": {
     "3df3e618c24b4c4ab41de1fe9a6ec3e6": {
      "model_module": "@jupyter-widgets/base",
      "model_module_version": "2.0.0",
      "model_name": "LayoutModel",
      "state": {
       "_model_module": "@jupyter-widgets/base",
       "_model_module_version": "2.0.0",
       "_model_name": "LayoutModel",
       "_view_count": null,
       "_view_module": "@jupyter-widgets/base",
       "_view_module_version": "2.0.0",
       "_view_name": "LayoutView",
       "align_content": null,
       "align_items": null,
       "align_self": null,
       "border_bottom": null,
       "border_left": null,
       "border_right": null,
       "border_top": null,
       "bottom": null,
       "display": null,
       "flex": null,
       "flex_flow": null,
       "grid_area": null,
       "grid_auto_columns": null,
       "grid_auto_flow": null,
       "grid_auto_rows": null,
       "grid_column": null,
       "grid_gap": null,
       "grid_row": null,
       "grid_template_areas": null,
       "grid_template_columns": null,
       "grid_template_rows": null,
       "height": null,
       "justify_content": null,
       "justify_items": null,
       "left": null,
       "margin": null,
       "max_height": null,
       "max_width": null,
       "min_height": null,
       "min_width": null,
       "object_fit": null,
       "object_position": null,
       "order": null,
       "overflow": null,
       "padding": null,
       "right": null,
       "top": null,
       "visibility": null,
       "width": null
      }
     },
     "40c4c941abde4176a8a6666f629f2d83": {
      "model_module": "@jupyter-widgets/base",
      "model_module_version": "2.0.0",
      "model_name": "LayoutModel",
      "state": {
       "_model_module": "@jupyter-widgets/base",
       "_model_module_version": "2.0.0",
       "_model_name": "LayoutModel",
       "_view_count": null,
       "_view_module": "@jupyter-widgets/base",
       "_view_module_version": "2.0.0",
       "_view_name": "LayoutView",
       "align_content": null,
       "align_items": null,
       "align_self": null,
       "border_bottom": null,
       "border_left": null,
       "border_right": null,
       "border_top": null,
       "bottom": null,
       "display": null,
       "flex": null,
       "flex_flow": null,
       "grid_area": null,
       "grid_auto_columns": null,
       "grid_auto_flow": null,
       "grid_auto_rows": null,
       "grid_column": null,
       "grid_gap": null,
       "grid_row": null,
       "grid_template_areas": null,
       "grid_template_columns": null,
       "grid_template_rows": null,
       "height": null,
       "justify_content": null,
       "justify_items": null,
       "left": null,
       "margin": null,
       "max_height": null,
       "max_width": null,
       "min_height": null,
       "min_width": null,
       "object_fit": null,
       "object_position": null,
       "order": null,
       "overflow": null,
       "padding": null,
       "right": null,
       "top": null,
       "visibility": null,
       "width": null
      }
     },
     "4c5a1fb347d54058bb675c53a16aa216": {
      "model_module": "@jupyter-widgets/controls",
      "model_module_version": "2.0.0",
      "model_name": "SliderStyleModel",
      "state": {
       "_model_module": "@jupyter-widgets/controls",
       "_model_module_version": "2.0.0",
       "_model_name": "SliderStyleModel",
       "_view_count": null,
       "_view_module": "@jupyter-widgets/base",
       "_view_module_version": "2.0.0",
       "_view_name": "StyleView",
       "description_width": "",
       "handle_color": null
      }
     },
     "563acaef0c574280a96d515729f62bae": {
      "model_module": "@jupyter-widgets/base",
      "model_module_version": "2.0.0",
      "model_name": "LayoutModel",
      "state": {
       "_model_module": "@jupyter-widgets/base",
       "_model_module_version": "2.0.0",
       "_model_name": "LayoutModel",
       "_view_count": null,
       "_view_module": "@jupyter-widgets/base",
       "_view_module_version": "2.0.0",
       "_view_name": "LayoutView",
       "align_content": null,
       "align_items": null,
       "align_self": null,
       "border_bottom": null,
       "border_left": null,
       "border_right": null,
       "border_top": null,
       "bottom": null,
       "display": null,
       "flex": null,
       "flex_flow": null,
       "grid_area": null,
       "grid_auto_columns": null,
       "grid_auto_flow": null,
       "grid_auto_rows": null,
       "grid_column": null,
       "grid_gap": null,
       "grid_row": null,
       "grid_template_areas": null,
       "grid_template_columns": null,
       "grid_template_rows": null,
       "height": null,
       "justify_content": null,
       "justify_items": null,
       "left": null,
       "margin": null,
       "max_height": null,
       "max_width": null,
       "min_height": null,
       "min_width": null,
       "object_fit": null,
       "object_position": null,
       "order": null,
       "overflow": null,
       "padding": null,
       "right": null,
       "top": null,
       "visibility": null,
       "width": null
      }
     },
     "670a466af58b4ea5a263bdd4e3b9a106": {
      "model_module": "@jupyter-widgets/output",
      "model_module_version": "1.0.0",
      "model_name": "OutputModel",
      "state": {
       "_dom_classes": [],
       "_model_module": "@jupyter-widgets/output",
       "_model_module_version": "1.0.0",
       "_model_name": "OutputModel",
       "_view_count": null,
       "_view_module": "@jupyter-widgets/output",
       "_view_module_version": "1.0.0",
       "_view_name": "OutputView",
       "layout": "IPY_MODEL_3df3e618c24b4c4ab41de1fe9a6ec3e6",
       "msg_id": "",
       "outputs": [
        {
         "data": {
          "image/png": "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",
          "text/plain": "<Figure size 1200x600 with 2 Axes>"
         },
         "metadata": {},
         "output_type": "display_data"
        }
       ],
       "tabbable": null,
       "tooltip": null
      }
     },
     "88a5a746768b4555a502767ce6ffef8c": {
      "model_module": "@jupyter-widgets/base",
      "model_module_version": "2.0.0",
      "model_name": "LayoutModel",
      "state": {
       "_model_module": "@jupyter-widgets/base",
       "_model_module_version": "2.0.0",
       "_model_name": "LayoutModel",
       "_view_count": null,
       "_view_module": "@jupyter-widgets/base",
       "_view_module_version": "2.0.0",
       "_view_name": "LayoutView",
       "align_content": null,
       "align_items": null,
       "align_self": null,
       "border_bottom": null,
       "border_left": null,
       "border_right": null,
       "border_top": null,
       "bottom": null,
       "display": null,
       "flex": null,
       "flex_flow": null,
       "grid_area": null,
       "grid_auto_columns": null,
       "grid_auto_flow": null,
       "grid_auto_rows": null,
       "grid_column": null,
       "grid_gap": null,
       "grid_row": null,
       "grid_template_areas": null,
       "grid_template_columns": null,
       "grid_template_rows": null,
       "height": null,
       "justify_content": null,
       "justify_items": null,
       "left": null,
       "margin": null,
       "max_height": null,
       "max_width": null,
       "min_height": null,
       "min_width": null,
       "object_fit": null,
       "object_position": null,
       "order": null,
       "overflow": null,
       "padding": null,
       "right": null,
       "top": null,
       "visibility": null,
       "width": null
      }
     },
     "8db4bd5315f041cc9e415e0496d178fa": {
      "model_module": "@jupyter-widgets/base",
      "model_module_version": "2.0.0",
      "model_name": "LayoutModel",
      "state": {
       "_model_module": "@jupyter-widgets/base",
       "_model_module_version": "2.0.0",
       "_model_name": "LayoutModel",
       "_view_count": null,
       "_view_module": "@jupyter-widgets/base",
       "_view_module_version": "2.0.0",
       "_view_name": "LayoutView",
       "align_content": null,
       "align_items": null,
       "align_self": null,
       "border_bottom": null,
       "border_left": null,
       "border_right": null,
       "border_top": null,
       "bottom": null,
       "display": null,
       "flex": null,
       "flex_flow": null,
       "grid_area": null,
       "grid_auto_columns": null,
       "grid_auto_flow": null,
       "grid_auto_rows": null,
       "grid_column": null,
       "grid_gap": null,
       "grid_row": null,
       "grid_template_areas": null,
       "grid_template_columns": null,
       "grid_template_rows": null,
       "height": null,
       "justify_content": null,
       "justify_items": null,
       "left": null,
       "margin": null,
       "max_height": null,
       "max_width": null,
       "min_height": null,
       "min_width": null,
       "object_fit": null,
       "object_position": null,
       "order": null,
       "overflow": null,
       "padding": null,
       "right": null,
       "top": null,
       "visibility": null,
       "width": null
      }
     },
     "9992ef17725f46e187f26982801c6ab2": {
      "model_module": "@jupyter-widgets/base",
      "model_module_version": "2.0.0",
      "model_name": "LayoutModel",
      "state": {
       "_model_module": "@jupyter-widgets/base",
       "_model_module_version": "2.0.0",
       "_model_name": "LayoutModel",
       "_view_count": null,
       "_view_module": "@jupyter-widgets/base",
       "_view_module_version": "2.0.0",
       "_view_name": "LayoutView",
       "align_content": null,
       "align_items": null,
       "align_self": null,
       "border_bottom": null,
       "border_left": null,
       "border_right": null,
       "border_top": null,
       "bottom": null,
       "display": null,
       "flex": null,
       "flex_flow": null,
       "grid_area": null,
       "grid_auto_columns": null,
       "grid_auto_flow": null,
       "grid_auto_rows": null,
       "grid_column": null,
       "grid_gap": null,
       "grid_row": null,
       "grid_template_areas": null,
       "grid_template_columns": null,
       "grid_template_rows": null,
       "height": null,
       "justify_content": null,
       "justify_items": null,
       "left": null,
       "margin": null,
       "max_height": null,
       "max_width": null,
       "min_height": null,
       "min_width": null,
       "object_fit": null,
       "object_position": null,
       "order": null,
       "overflow": null,
       "padding": null,
       "right": null,
       "top": null,
       "visibility": null,
       "width": null
      }
     },
     "a79061e344434b1eb01dff64fec96c44": {
      "model_module": "@jupyter-widgets/controls",
      "model_module_version": "2.0.0",
      "model_name": "SliderStyleModel",
      "state": {
       "_model_module": "@jupyter-widgets/controls",
       "_model_module_version": "2.0.0",
       "_model_name": "SliderStyleModel",
       "_view_count": null,
       "_view_module": "@jupyter-widgets/base",
       "_view_module_version": "2.0.0",
       "_view_name": "StyleView",
       "description_width": "",
       "handle_color": null
      }
     },
     "b58e972adbfc46828b02db1f239d61f2": {
      "model_module": "@jupyter-widgets/controls",
      "model_module_version": "2.0.0",
      "model_name": "VBoxModel",
      "state": {
       "_dom_classes": [
        "widget-interact"
       ],
       "_model_module": "@jupyter-widgets/controls",
       "_model_module_version": "2.0.0",
       "_model_name": "VBoxModel",
       "_view_count": null,
       "_view_module": "@jupyter-widgets/controls",
       "_view_module_version": "2.0.0",
       "_view_name": "VBoxView",
       "box_style": "",
       "children": [
        "IPY_MODEL_d03821bb0ce4428ca10d17343a4edb60",
        "IPY_MODEL_f3870254e6024a3a94c4166f0a6c4e8f"
       ],
       "layout": "IPY_MODEL_9992ef17725f46e187f26982801c6ab2",
       "tabbable": null,
       "tooltip": null
      }
     },
     "b910fdbce4754833956ce1fd920ff534": {
      "model_module": "@jupyter-widgets/controls",
      "model_module_version": "2.0.0",
      "model_name": "VBoxModel",
      "state": {
       "_dom_classes": [
        "widget-interact"
       ],
       "_model_module": "@jupyter-widgets/controls",
       "_model_module_version": "2.0.0",
       "_model_name": "VBoxModel",
       "_view_count": null,
       "_view_module": "@jupyter-widgets/controls",
       "_view_module_version": "2.0.0",
       "_view_name": "VBoxView",
       "box_style": "",
       "children": [
        "IPY_MODEL_c6e51cee4baa4c939d3b8f48437c3300",
        "IPY_MODEL_670a466af58b4ea5a263bdd4e3b9a106"
       ],
       "layout": "IPY_MODEL_88a5a746768b4555a502767ce6ffef8c",
       "tabbable": null,
       "tooltip": null
      }
     },
     "c6e51cee4baa4c939d3b8f48437c3300": {
      "model_module": "@jupyter-widgets/controls",
      "model_module_version": "2.0.0",
      "model_name": "IntSliderModel",
      "state": {
       "_dom_classes": [],
       "_model_module": "@jupyter-widgets/controls",
       "_model_module_version": "2.0.0",
       "_model_name": "IntSliderModel",
       "_view_count": null,
       "_view_module": "@jupyter-widgets/controls",
       "_view_module_version": "2.0.0",
       "_view_name": "IntSliderView",
       "behavior": "drag-tap",
       "continuous_update": true,
       "description": "sd",
       "description_allow_html": false,
       "disabled": false,
       "layout": "IPY_MODEL_8db4bd5315f041cc9e415e0496d178fa",
       "max": 800,
       "min": 1,
       "orientation": "horizontal",
       "readout": true,
       "readout_format": "d",
       "step": 1,
       "style": "IPY_MODEL_4c5a1fb347d54058bb675c53a16aa216",
       "tabbable": null,
       "tooltip": null,
       "value": 400
      }
     },
     "d03821bb0ce4428ca10d17343a4edb60": {
      "model_module": "@jupyter-widgets/controls",
      "model_module_version": "2.0.0",
      "model_name": "IntSliderModel",
      "state": {
       "_dom_classes": [],
       "_model_module": "@jupyter-widgets/controls",
       "_model_module_version": "2.0.0",
       "_model_name": "IntSliderModel",
       "_view_count": null,
       "_view_module": "@jupyter-widgets/controls",
       "_view_module_version": "2.0.0",
       "_view_name": "IntSliderView",
       "behavior": "drag-tap",
       "continuous_update": true,
       "description": "sd",
       "description_allow_html": false,
       "disabled": false,
       "layout": "IPY_MODEL_563acaef0c574280a96d515729f62bae",
       "max": 400,
       "min": 1,
       "orientation": "horizontal",
       "readout": true,
       "readout_format": "d",
       "step": 1,
       "style": "IPY_MODEL_a79061e344434b1eb01dff64fec96c44",
       "tabbable": null,
       "tooltip": null,
       "value": 200
      }
     },
     "f3870254e6024a3a94c4166f0a6c4e8f": {
      "model_module": "@jupyter-widgets/output",
      "model_module_version": "1.0.0",
      "model_name": "OutputModel",
      "state": {
       "_dom_classes": [],
       "_model_module": "@jupyter-widgets/output",
       "_model_module_version": "1.0.0",
       "_model_name": "OutputModel",
       "_view_count": null,
       "_view_module": "@jupyter-widgets/output",
       "_view_module_version": "1.0.0",
       "_view_name": "OutputView",
       "layout": "IPY_MODEL_40c4c941abde4176a8a6666f629f2d83",
       "msg_id": "",
       "outputs": [
        {
         "data": {
          "image/png": "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",
          "text/plain": "<Figure size 768x576 with 1 Axes>"
         },
         "metadata": {},
         "output_type": "display_data"
        }
       ],
       "tabbable": null,
       "tooltip": null
      }
     }
    },
    "version_major": 2,
    "version_minor": 0
   }
  }
 },
 "nbformat": 4,
 "nbformat_minor": 4
}