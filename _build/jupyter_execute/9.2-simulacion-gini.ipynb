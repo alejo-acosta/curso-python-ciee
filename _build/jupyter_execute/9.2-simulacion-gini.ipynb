{
 "cells": [
  {
   "cell_type": "markdown",
   "metadata": {},
   "source": [
    "# Ejemplo: Simulación Gini\n",
    "\n",
    "Elaborado por: Alejandro Acosta"
   ]
  },
  {
   "cell_type": "code",
   "execution_count": 1,
   "metadata": {},
   "outputs": [],
   "source": [
    "import pandas as pd\n",
    "import numpy as np\n",
    "import matplotlib.pyplot as plt\n",
    "import seaborn as sns\n",
    "\n",
    "from ipywidgets import interact, interactive, fixed, interact_manual\n",
    "import ipywidgets as widgets\n",
    "\n",
    "plt.rcParams['figure.dpi'] = 120\n",
    "plt.rcParams['savefig.dpi'] = 120\n",
    "\n",
    "sns.set_style(\"whitegrid\")"
   ]
  },
  {
   "cell_type": "code",
   "execution_count": 2,
   "metadata": {},
   "outputs": [],
   "source": [
    "def simul_income(mean=1000, sd=50, size=10000):\n",
    "    return sorted(np.random.normal(mean, sd, size).clip(0))\n",
    "\n",
    "\n"
   ]
  },
  {
   "cell_type": "code",
   "execution_count": 3,
   "metadata": {},
   "outputs": [],
   "source": [
    "def plot_income(**kwargs):\n",
    "    income = simul_income(**kwargs)\n",
    "    fig = plt.figure()\n",
    "    sns.histplot(income, stat='frequency', element='poly', bins=30)\n",
    "    plt.xlim(0,2000)\n",
    "    plt.ylim(0,80)\n",
    "    plt.close(fig)\n",
    "    return fig"
   ]
  },
  {
   "cell_type": "code",
   "execution_count": 4,
   "metadata": {},
   "outputs": [],
   "source": [
    "def plot_gini(**kwargs):\n",
    "    income = simul_income(**kwargs)\n",
    "    total_income = sum(income)\n",
    "    bins = np.linspace(0,100, 20)\n",
    "    x = [np.percentile(income, i) for i in bins]\n",
    "    x2 = [i/100 for i in bins]\n",
    "    y = [np.round(sum(income*np.array([i<=x[j] for i in income]))/total_income,2) for j in range(len(bins))]\n",
    "\n",
    "    fig=plt.figure()\n",
    "    sns.lineplot(x=x2,y=x2)\n",
    "    sns.lineplot(x=x2,y=y, color='red')\n",
    "    plt.fill_between(x2,x2,y, color='red', alpha=0.25)\n",
    "    plt.ylim(0,1)\n",
    "    plt.xlim(0,1)\n",
    "    plt.close(fig)\n",
    "    return fig"
   ]
  },
  {
   "cell_type": "code",
   "execution_count": 5,
   "metadata": {},
   "outputs": [],
   "source": [
    "def plot_both(**kwargs):\n",
    "    income = simul_income(**kwargs)\n",
    "    total_income = sum(income)\n",
    "    bins = np.linspace(0, 100, 20)\n",
    "    xaux = [np.percentile(income, i) for i in bins]\n",
    "    x = [i/100 for i in bins]\n",
    "    y = [np.round(sum(income*np.array([i <= xaux[j] for i in income])\n",
    "                      )/total_income, 2) for j in range(len(bins))]\n",
    "\n",
    "    fig, ax = plt.subplots(1, 2, sharex=False, sharey=False, figsize=(10,5))\n",
    "    sns.histplot(income, stat='frequency', element='poly', bins=30, ax=ax[0])\n",
    "    ax[0].set_xlim([0, 2000])\n",
    "    ax[0].set_ylim([0, 80])\n",
    "\n",
    "    \n",
    "    sns.lineplot(x=x, y=x, ax=ax[1])\n",
    "    sns.lineplot(x=x, y=y, color='red', ax=ax[1])\n",
    "    plt.fill_between(x, x, y, color='red', alpha=0.25)\n",
    "    ax[1].set_xlim([0, 1])\n",
    "    ax[1].set_ylim([0, 1])\n",
    "\n",
    "    plt.close(fig)\n",
    "\n",
    "    return fig\n"
   ]
  },
  {
   "cell_type": "code",
   "execution_count": 6,
   "metadata": {},
   "outputs": [
    {
     "data": {
      "application/vnd.jupyter.widget-view+json": {
       "model_id": "589bcd6310924283bafdbedd76ab1fa6",
       "version_major": 2,
       "version_minor": 0
      },
      "text/plain": [
       "interactive(children=(IntSlider(value=200, description='sd', max=400, min=1), Output()), _dom_classes=('widget…"
      ]
     },
     "metadata": {},
     "output_type": "display_data"
    },
    {
     "data": {
      "text/plain": [
       "<function __main__.plot_income(**kwargs)>"
      ]
     },
     "execution_count": 6,
     "metadata": {},
     "output_type": "execute_result"
    }
   ],
   "source": [
    "interact(plot_income, sd=(1,400))"
   ]
  },
  {
   "cell_type": "code",
   "execution_count": 7,
   "metadata": {},
   "outputs": [
    {
     "data": {
      "application/vnd.jupyter.widget-view+json": {
       "model_id": "bfb6dc5dd4144003b259b1fce00514be",
       "version_major": 2,
       "version_minor": 0
      },
      "text/plain": [
       "interactive(children=(IntSlider(value=400, description='sd', max=800, min=1), Output()), _dom_classes=('widget…"
      ]
     },
     "metadata": {},
     "output_type": "display_data"
    },
    {
     "data": {
      "text/plain": [
       "<function __main__.plot_both(**kwargs)>"
      ]
     },
     "execution_count": 7,
     "metadata": {},
     "output_type": "execute_result"
    }
   ],
   "source": [
    "interact(plot_both, sd=(1,800))"
   ]
  },
  {
   "cell_type": "code",
   "execution_count": null,
   "metadata": {},
   "outputs": [],
   "source": []
  }
 ],
 "metadata": {
  "kernelspec": {
   "display_name": "Python 3 (ipykernel)",
   "language": "python",
   "name": "python3"
  },
  "language_info": {
   "codemirror_mode": {
    "name": "ipython",
    "version": 3
   },
   "file_extension": ".py",
   "mimetype": "text/x-python",
   "name": "python",
   "nbconvert_exporter": "python",
   "pygments_lexer": "ipython3",
   "version": "3.11.3"
  },
  "vscode": {
   "interpreter": {
    "hash": "0d9db2acd79fc802845d33905a24c499b3c5b632a8047d75c602e59109c51bd3"
   }
  },
  "widgets": {
   "application/vnd.jupyter.widget-state+json": {
    "state": {
     "0529e6b0d2904903a48dd6694b9dc3e0": {
      "model_module": "@jupyter-widgets/output",
      "model_module_version": "1.0.0",
      "model_name": "OutputModel",
      "state": {
       "_dom_classes": [],
       "_model_module": "@jupyter-widgets/output",
       "_model_module_version": "1.0.0",
       "_model_name": "OutputModel",
       "_view_count": null,
       "_view_module": "@jupyter-widgets/output",
       "_view_module_version": "1.0.0",
       "_view_name": "OutputView",
       "layout": "IPY_MODEL_d8bf737a76eb4bdfb757540b3795a6e3",
       "msg_id": "",
       "outputs": [
        {
         "data": {
          "image/png": "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",
          "text/plain": "<Figure size 768x576 with 1 Axes>"
         },
         "metadata": {},
         "output_type": "display_data"
        }
       ],
       "tabbable": null,
       "tooltip": null
      }
     },
     "1e2bcbb81007438597e617c5a08d5742": {
      "model_module": "@jupyter-widgets/base",
      "model_module_version": "2.0.0",
      "model_name": "LayoutModel",
      "state": {
       "_model_module": "@jupyter-widgets/base",
       "_model_module_version": "2.0.0",
       "_model_name": "LayoutModel",
       "_view_count": null,
       "_view_module": "@jupyter-widgets/base",
       "_view_module_version": "2.0.0",
       "_view_name": "LayoutView",
       "align_content": null,
       "align_items": null,
       "align_self": null,
       "border_bottom": null,
       "border_left": null,
       "border_right": null,
       "border_top": null,
       "bottom": null,
       "display": null,
       "flex": null,
       "flex_flow": null,
       "grid_area": null,
       "grid_auto_columns": null,
       "grid_auto_flow": null,
       "grid_auto_rows": null,
       "grid_column": null,
       "grid_gap": null,
       "grid_row": null,
       "grid_template_areas": null,
       "grid_template_columns": null,
       "grid_template_rows": null,
       "height": null,
       "justify_content": null,
       "justify_items": null,
       "left": null,
       "margin": null,
       "max_height": null,
       "max_width": null,
       "min_height": null,
       "min_width": null,
       "object_fit": null,
       "object_position": null,
       "order": null,
       "overflow": null,
       "padding": null,
       "right": null,
       "top": null,
       "visibility": null,
       "width": null
      }
     },
     "25ec180a3f9541098496f8144db3232c": {
      "model_module": "@jupyter-widgets/controls",
      "model_module_version": "2.0.0",
      "model_name": "IntSliderModel",
      "state": {
       "_dom_classes": [],
       "_model_module": "@jupyter-widgets/controls",
       "_model_module_version": "2.0.0",
       "_model_name": "IntSliderModel",
       "_view_count": null,
       "_view_module": "@jupyter-widgets/controls",
       "_view_module_version": "2.0.0",
       "_view_name": "IntSliderView",
       "behavior": "drag-tap",
       "continuous_update": true,
       "description": "sd",
       "description_allow_html": false,
       "disabled": false,
       "layout": "IPY_MODEL_df9f202ebab44e1898686397330f5675",
       "max": 400,
       "min": 1,
       "orientation": "horizontal",
       "readout": true,
       "readout_format": "d",
       "step": 1,
       "style": "IPY_MODEL_6c0e14482ca34e9e9418a54048b3914f",
       "tabbable": null,
       "tooltip": null,
       "value": 200
      }
     },
     "3e3f3bd8568c4b4887e2c7a3e6706dee": {
      "model_module": "@jupyter-widgets/base",
      "model_module_version": "2.0.0",
      "model_name": "LayoutModel",
      "state": {
       "_model_module": "@jupyter-widgets/base",
       "_model_module_version": "2.0.0",
       "_model_name": "LayoutModel",
       "_view_count": null,
       "_view_module": "@jupyter-widgets/base",
       "_view_module_version": "2.0.0",
       "_view_name": "LayoutView",
       "align_content": null,
       "align_items": null,
       "align_self": null,
       "border_bottom": null,
       "border_left": null,
       "border_right": null,
       "border_top": null,
       "bottom": null,
       "display": null,
       "flex": null,
       "flex_flow": null,
       "grid_area": null,
       "grid_auto_columns": null,
       "grid_auto_flow": null,
       "grid_auto_rows": null,
       "grid_column": null,
       "grid_gap": null,
       "grid_row": null,
       "grid_template_areas": null,
       "grid_template_columns": null,
       "grid_template_rows": null,
       "height": null,
       "justify_content": null,
       "justify_items": null,
       "left": null,
       "margin": null,
       "max_height": null,
       "max_width": null,
       "min_height": null,
       "min_width": null,
       "object_fit": null,
       "object_position": null,
       "order": null,
       "overflow": null,
       "padding": null,
       "right": null,
       "top": null,
       "visibility": null,
       "width": null
      }
     },
     "589bcd6310924283bafdbedd76ab1fa6": {
      "model_module": "@jupyter-widgets/controls",
      "model_module_version": "2.0.0",
      "model_name": "VBoxModel",
      "state": {
       "_dom_classes": [
        "widget-interact"
       ],
       "_model_module": "@jupyter-widgets/controls",
       "_model_module_version": "2.0.0",
       "_model_name": "VBoxModel",
       "_view_count": null,
       "_view_module": "@jupyter-widgets/controls",
       "_view_module_version": "2.0.0",
       "_view_name": "VBoxView",
       "box_style": "",
       "children": [
        "IPY_MODEL_25ec180a3f9541098496f8144db3232c",
        "IPY_MODEL_0529e6b0d2904903a48dd6694b9dc3e0"
       ],
       "layout": "IPY_MODEL_3e3f3bd8568c4b4887e2c7a3e6706dee",
       "tabbable": null,
       "tooltip": null
      }
     },
     "6c0e14482ca34e9e9418a54048b3914f": {
      "model_module": "@jupyter-widgets/controls",
      "model_module_version": "2.0.0",
      "model_name": "SliderStyleModel",
      "state": {
       "_model_module": "@jupyter-widgets/controls",
       "_model_module_version": "2.0.0",
       "_model_name": "SliderStyleModel",
       "_view_count": null,
       "_view_module": "@jupyter-widgets/base",
       "_view_module_version": "2.0.0",
       "_view_name": "StyleView",
       "description_width": "",
       "handle_color": null
      }
     },
     "70a0753e74104ff7a35df656b278e3e2": {
      "model_module": "@jupyter-widgets/base",
      "model_module_version": "2.0.0",
      "model_name": "LayoutModel",
      "state": {
       "_model_module": "@jupyter-widgets/base",
       "_model_module_version": "2.0.0",
       "_model_name": "LayoutModel",
       "_view_count": null,
       "_view_module": "@jupyter-widgets/base",
       "_view_module_version": "2.0.0",
       "_view_name": "LayoutView",
       "align_content": null,
       "align_items": null,
       "align_self": null,
       "border_bottom": null,
       "border_left": null,
       "border_right": null,
       "border_top": null,
       "bottom": null,
       "display": null,
       "flex": null,
       "flex_flow": null,
       "grid_area": null,
       "grid_auto_columns": null,
       "grid_auto_flow": null,
       "grid_auto_rows": null,
       "grid_column": null,
       "grid_gap": null,
       "grid_row": null,
       "grid_template_areas": null,
       "grid_template_columns": null,
       "grid_template_rows": null,
       "height": null,
       "justify_content": null,
       "justify_items": null,
       "left": null,
       "margin": null,
       "max_height": null,
       "max_width": null,
       "min_height": null,
       "min_width": null,
       "object_fit": null,
       "object_position": null,
       "order": null,
       "overflow": null,
       "padding": null,
       "right": null,
       "top": null,
       "visibility": null,
       "width": null
      }
     },
     "8364048d132346859776b841c65b84d6": {
      "model_module": "@jupyter-widgets/controls",
      "model_module_version": "2.0.0",
      "model_name": "IntSliderModel",
      "state": {
       "_dom_classes": [],
       "_model_module": "@jupyter-widgets/controls",
       "_model_module_version": "2.0.0",
       "_model_name": "IntSliderModel",
       "_view_count": null,
       "_view_module": "@jupyter-widgets/controls",
       "_view_module_version": "2.0.0",
       "_view_name": "IntSliderView",
       "behavior": "drag-tap",
       "continuous_update": true,
       "description": "sd",
       "description_allow_html": false,
       "disabled": false,
       "layout": "IPY_MODEL_70a0753e74104ff7a35df656b278e3e2",
       "max": 800,
       "min": 1,
       "orientation": "horizontal",
       "readout": true,
       "readout_format": "d",
       "step": 1,
       "style": "IPY_MODEL_dab32cb98fba4452b34edcea196e8431",
       "tabbable": null,
       "tooltip": null,
       "value": 400
      }
     },
     "b20fbf12e3f1468c9e957cb9d8debf50": {
      "model_module": "@jupyter-widgets/base",
      "model_module_version": "2.0.0",
      "model_name": "LayoutModel",
      "state": {
       "_model_module": "@jupyter-widgets/base",
       "_model_module_version": "2.0.0",
       "_model_name": "LayoutModel",
       "_view_count": null,
       "_view_module": "@jupyter-widgets/base",
       "_view_module_version": "2.0.0",
       "_view_name": "LayoutView",
       "align_content": null,
       "align_items": null,
       "align_self": null,
       "border_bottom": null,
       "border_left": null,
       "border_right": null,
       "border_top": null,
       "bottom": null,
       "display": null,
       "flex": null,
       "flex_flow": null,
       "grid_area": null,
       "grid_auto_columns": null,
       "grid_auto_flow": null,
       "grid_auto_rows": null,
       "grid_column": null,
       "grid_gap": null,
       "grid_row": null,
       "grid_template_areas": null,
       "grid_template_columns": null,
       "grid_template_rows": null,
       "height": null,
       "justify_content": null,
       "justify_items": null,
       "left": null,
       "margin": null,
       "max_height": null,
       "max_width": null,
       "min_height": null,
       "min_width": null,
       "object_fit": null,
       "object_position": null,
       "order": null,
       "overflow": null,
       "padding": null,
       "right": null,
       "top": null,
       "visibility": null,
       "width": null
      }
     },
     "bfb6dc5dd4144003b259b1fce00514be": {
      "model_module": "@jupyter-widgets/controls",
      "model_module_version": "2.0.0",
      "model_name": "VBoxModel",
      "state": {
       "_dom_classes": [
        "widget-interact"
       ],
       "_model_module": "@jupyter-widgets/controls",
       "_model_module_version": "2.0.0",
       "_model_name": "VBoxModel",
       "_view_count": null,
       "_view_module": "@jupyter-widgets/controls",
       "_view_module_version": "2.0.0",
       "_view_name": "VBoxView",
       "box_style": "",
       "children": [
        "IPY_MODEL_8364048d132346859776b841c65b84d6",
        "IPY_MODEL_cc92f3a943af49c4a4e60435d7c73b1f"
       ],
       "layout": "IPY_MODEL_1e2bcbb81007438597e617c5a08d5742",
       "tabbable": null,
       "tooltip": null
      }
     },
     "cc92f3a943af49c4a4e60435d7c73b1f": {
      "model_module": "@jupyter-widgets/output",
      "model_module_version": "1.0.0",
      "model_name": "OutputModel",
      "state": {
       "_dom_classes": [],
       "_model_module": "@jupyter-widgets/output",
       "_model_module_version": "1.0.0",
       "_model_name": "OutputModel",
       "_view_count": null,
       "_view_module": "@jupyter-widgets/output",
       "_view_module_version": "1.0.0",
       "_view_name": "OutputView",
       "layout": "IPY_MODEL_b20fbf12e3f1468c9e957cb9d8debf50",
       "msg_id": "",
       "outputs": [
        {
         "data": {
          "image/png": "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",
          "text/plain": "<Figure size 1200x600 with 2 Axes>"
         },
         "metadata": {},
         "output_type": "display_data"
        }
       ],
       "tabbable": null,
       "tooltip": null
      }
     },
     "d8bf737a76eb4bdfb757540b3795a6e3": {
      "model_module": "@jupyter-widgets/base",
      "model_module_version": "2.0.0",
      "model_name": "LayoutModel",
      "state": {
       "_model_module": "@jupyter-widgets/base",
       "_model_module_version": "2.0.0",
       "_model_name": "LayoutModel",
       "_view_count": null,
       "_view_module": "@jupyter-widgets/base",
       "_view_module_version": "2.0.0",
       "_view_name": "LayoutView",
       "align_content": null,
       "align_items": null,
       "align_self": null,
       "border_bottom": null,
       "border_left": null,
       "border_right": null,
       "border_top": null,
       "bottom": null,
       "display": null,
       "flex": null,
       "flex_flow": null,
       "grid_area": null,
       "grid_auto_columns": null,
       "grid_auto_flow": null,
       "grid_auto_rows": null,
       "grid_column": null,
       "grid_gap": null,
       "grid_row": null,
       "grid_template_areas": null,
       "grid_template_columns": null,
       "grid_template_rows": null,
       "height": null,
       "justify_content": null,
       "justify_items": null,
       "left": null,
       "margin": null,
       "max_height": null,
       "max_width": null,
       "min_height": null,
       "min_width": null,
       "object_fit": null,
       "object_position": null,
       "order": null,
       "overflow": null,
       "padding": null,
       "right": null,
       "top": null,
       "visibility": null,
       "width": null
      }
     },
     "dab32cb98fba4452b34edcea196e8431": {
      "model_module": "@jupyter-widgets/controls",
      "model_module_version": "2.0.0",
      "model_name": "SliderStyleModel",
      "state": {
       "_model_module": "@jupyter-widgets/controls",
       "_model_module_version": "2.0.0",
       "_model_name": "SliderStyleModel",
       "_view_count": null,
       "_view_module": "@jupyter-widgets/base",
       "_view_module_version": "2.0.0",
       "_view_name": "StyleView",
       "description_width": "",
       "handle_color": null
      }
     },
     "df9f202ebab44e1898686397330f5675": {
      "model_module": "@jupyter-widgets/base",
      "model_module_version": "2.0.0",
      "model_name": "LayoutModel",
      "state": {
       "_model_module": "@jupyter-widgets/base",
       "_model_module_version": "2.0.0",
       "_model_name": "LayoutModel",
       "_view_count": null,
       "_view_module": "@jupyter-widgets/base",
       "_view_module_version": "2.0.0",
       "_view_name": "LayoutView",
       "align_content": null,
       "align_items": null,
       "align_self": null,
       "border_bottom": null,
       "border_left": null,
       "border_right": null,
       "border_top": null,
       "bottom": null,
       "display": null,
       "flex": null,
       "flex_flow": null,
       "grid_area": null,
       "grid_auto_columns": null,
       "grid_auto_flow": null,
       "grid_auto_rows": null,
       "grid_column": null,
       "grid_gap": null,
       "grid_row": null,
       "grid_template_areas": null,
       "grid_template_columns": null,
       "grid_template_rows": null,
       "height": null,
       "justify_content": null,
       "justify_items": null,
       "left": null,
       "margin": null,
       "max_height": null,
       "max_width": null,
       "min_height": null,
       "min_width": null,
       "object_fit": null,
       "object_position": null,
       "order": null,
       "overflow": null,
       "padding": null,
       "right": null,
       "top": null,
       "visibility": null,
       "width": null
      }
     }
    },
    "version_major": 2,
    "version_minor": 0
   }
  }
 },
 "nbformat": 4,
 "nbformat_minor": 4
}