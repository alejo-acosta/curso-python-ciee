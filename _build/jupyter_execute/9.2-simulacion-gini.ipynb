{
 "cells": [
  {
   "cell_type": "markdown",
   "metadata": {},
   "source": [
    "# Simulación GINI"
   ]
  },
  {
   "cell_type": "code",
   "execution_count": 1,
   "metadata": {},
   "outputs": [],
   "source": [
    "import pandas as pd\n",
    "import numpy as np\n",
    "import matplotlib.pyplot as plt\n",
    "import seaborn as sns\n",
    "\n",
    "from ipywidgets import interact, interactive, fixed, interact_manual\n",
    "import ipywidgets as widgets\n",
    "\n",
    "plt.rcParams['figure.dpi'] = 120\n",
    "plt.rcParams['savefig.dpi'] = 120\n",
    "\n",
    "sns.set_style(\"whitegrid\")"
   ]
  },
  {
   "cell_type": "code",
   "execution_count": 2,
   "metadata": {},
   "outputs": [],
   "source": [
    "def simul_income(mean=1000, sd=50, size=10000):\n",
    "    return sorted(np.random.normal(mean, sd, size).clip(0))\n",
    "\n",
    "\n"
   ]
  },
  {
   "cell_type": "code",
   "execution_count": 3,
   "metadata": {},
   "outputs": [],
   "source": [
    "def plot_income(**kwargs):\n",
    "    income = simul_income(**kwargs)\n",
    "    fig = plt.figure()\n",
    "    sns.histplot(income, stat='frequency', element='poly', bins=30)\n",
    "    plt.xlim(0,2000)\n",
    "    plt.ylim(0,80)\n",
    "    plt.close(fig)\n",
    "    return fig"
   ]
  },
  {
   "cell_type": "code",
   "execution_count": 4,
   "metadata": {},
   "outputs": [],
   "source": [
    "def plot_gini(**kwargs):\n",
    "    income = simul_income(**kwargs)\n",
    "    total_income = sum(income)\n",
    "    bins = np.linspace(0,100, 20)\n",
    "    x = [np.percentile(income, i) for i in bins]\n",
    "    x2 = [i/100 for i in bins]\n",
    "    y = [np.round(sum(income*np.array([i<=x[j] for i in income]))/total_income,2) for j in range(len(bins))]\n",
    "\n",
    "    fig=plt.figure()\n",
    "    sns.lineplot(x=x2,y=x2)\n",
    "    sns.lineplot(x=x2,y=y, color='red')\n",
    "    plt.fill_between(x2,x2,y, color='red', alpha=0.25)\n",
    "    plt.ylim(0,1)\n",
    "    plt.xlim(0,1)\n",
    "    plt.close(fig)\n",
    "    return fig"
   ]
  },
  {
   "cell_type": "code",
   "execution_count": 5,
   "metadata": {},
   "outputs": [],
   "source": [
    "def plot_both(**kwargs):\n",
    "    income = simul_income(**kwargs)\n",
    "    total_income = sum(income)\n",
    "    bins = np.linspace(0, 100, 20)\n",
    "    xaux = [np.percentile(income, i) for i in bins]\n",
    "    x = [i/100 for i in bins]\n",
    "    y = [np.round(sum(income*np.array([i <= xaux[j] for i in income])\n",
    "                      )/total_income, 2) for j in range(len(bins))]\n",
    "\n",
    "    fig, ax = plt.subplots(1, 2, sharex=False, sharey=False, figsize=(10,5))\n",
    "    sns.histplot(income, stat='frequency', element='poly', bins=30, ax=ax[0])\n",
    "    ax[0].set_xlim([0, 2000])\n",
    "    ax[0].set_ylim([0, 80])\n",
    "\n",
    "    \n",
    "    sns.lineplot(x=x, y=x, ax=ax[1])\n",
    "    sns.lineplot(x=x, y=y, color='red', ax=ax[1])\n",
    "    plt.fill_between(x, x, y, color='red', alpha=0.25)\n",
    "    ax[1].set_xlim([0, 1])\n",
    "    ax[1].set_ylim([0, 1])\n",
    "\n",
    "    plt.close(fig)\n",
    "\n",
    "    return fig\n"
   ]
  },
  {
   "cell_type": "code",
   "execution_count": 6,
   "metadata": {},
   "outputs": [
    {
     "data": {
      "application/vnd.jupyter.widget-view+json": {
       "model_id": "8a8b64c4f7a444bc950653df79d4321c",
       "version_major": 2,
       "version_minor": 0
      },
      "text/plain": [
       "interactive(children=(IntSlider(value=200, description='sd', max=400, min=1), Output()), _dom_classes=('widget…"
      ]
     },
     "metadata": {},
     "output_type": "display_data"
    },
    {
     "data": {
      "text/plain": [
       "<function __main__.plot_income(**kwargs)>"
      ]
     },
     "execution_count": 6,
     "metadata": {},
     "output_type": "execute_result"
    }
   ],
   "source": [
    "interact(plot_income, sd=(1,400))"
   ]
  },
  {
   "cell_type": "code",
   "execution_count": 7,
   "metadata": {},
   "outputs": [
    {
     "data": {
      "application/vnd.jupyter.widget-view+json": {
       "model_id": "c6c76577afe44355b0aeb800e93d5cf7",
       "version_major": 2,
       "version_minor": 0
      },
      "text/plain": [
       "interactive(children=(IntSlider(value=400, description='sd', max=800, min=1), Output()), _dom_classes=('widget…"
      ]
     },
     "metadata": {},
     "output_type": "display_data"
    },
    {
     "data": {
      "text/plain": [
       "<function __main__.plot_both(**kwargs)>"
      ]
     },
     "execution_count": 7,
     "metadata": {},
     "output_type": "execute_result"
    }
   ],
   "source": [
    "interact(plot_both, sd=(1,800))"
   ]
  },
  {
   "cell_type": "code",
   "execution_count": null,
   "metadata": {},
   "outputs": [],
   "source": []
  }
 ],
 "metadata": {
  "kernelspec": {
   "display_name": "Python 3 (ipykernel)",
   "language": "python",
   "name": "python3"
  },
  "language_info": {
   "codemirror_mode": {
    "name": "ipython",
    "version": 3
   },
   "file_extension": ".py",
   "mimetype": "text/x-python",
   "name": "python",
   "nbconvert_exporter": "python",
   "pygments_lexer": "ipython3",
   "version": "3.11.3"
  },
  "vscode": {
   "interpreter": {
    "hash": "0d9db2acd79fc802845d33905a24c499b3c5b632a8047d75c602e59109c51bd3"
   }
  },
  "widgets": {
   "application/vnd.jupyter.widget-state+json": {
    "state": {
     "1b6632a762b646bbacfe7d82a0e6d84b": {
      "model_module": "@jupyter-widgets/base",
      "model_module_version": "2.0.0",
      "model_name": "LayoutModel",
      "state": {
       "_model_module": "@jupyter-widgets/base",
       "_model_module_version": "2.0.0",
       "_model_name": "LayoutModel",
       "_view_count": null,
       "_view_module": "@jupyter-widgets/base",
       "_view_module_version": "2.0.0",
       "_view_name": "LayoutView",
       "align_content": null,
       "align_items": null,
       "align_self": null,
       "border_bottom": null,
       "border_left": null,
       "border_right": null,
       "border_top": null,
       "bottom": null,
       "display": null,
       "flex": null,
       "flex_flow": null,
       "grid_area": null,
       "grid_auto_columns": null,
       "grid_auto_flow": null,
       "grid_auto_rows": null,
       "grid_column": null,
       "grid_gap": null,
       "grid_row": null,
       "grid_template_areas": null,
       "grid_template_columns": null,
       "grid_template_rows": null,
       "height": null,
       "justify_content": null,
       "justify_items": null,
       "left": null,
       "margin": null,
       "max_height": null,
       "max_width": null,
       "min_height": null,
       "min_width": null,
       "object_fit": null,
       "object_position": null,
       "order": null,
       "overflow": null,
       "padding": null,
       "right": null,
       "top": null,
       "visibility": null,
       "width": null
      }
     },
     "20916850fee54ddc9953baaf2f22fed2": {
      "model_module": "@jupyter-widgets/controls",
      "model_module_version": "2.0.0",
      "model_name": "SliderStyleModel",
      "state": {
       "_model_module": "@jupyter-widgets/controls",
       "_model_module_version": "2.0.0",
       "_model_name": "SliderStyleModel",
       "_view_count": null,
       "_view_module": "@jupyter-widgets/base",
       "_view_module_version": "2.0.0",
       "_view_name": "StyleView",
       "description_width": "",
       "handle_color": null
      }
     },
     "25f701cf000a494e89b3e8ed666a2a22": {
      "model_module": "@jupyter-widgets/controls",
      "model_module_version": "2.0.0",
      "model_name": "IntSliderModel",
      "state": {
       "_dom_classes": [],
       "_model_module": "@jupyter-widgets/controls",
       "_model_module_version": "2.0.0",
       "_model_name": "IntSliderModel",
       "_view_count": null,
       "_view_module": "@jupyter-widgets/controls",
       "_view_module_version": "2.0.0",
       "_view_name": "IntSliderView",
       "behavior": "drag-tap",
       "continuous_update": true,
       "description": "sd",
       "description_allow_html": false,
       "disabled": false,
       "layout": "IPY_MODEL_9e4281388fe14e52950988645c597f3b",
       "max": 800,
       "min": 1,
       "orientation": "horizontal",
       "readout": true,
       "readout_format": "d",
       "step": 1,
       "style": "IPY_MODEL_20916850fee54ddc9953baaf2f22fed2",
       "tabbable": null,
       "tooltip": null,
       "value": 400
      }
     },
     "3410b0d0b99a417bb7e32639d159ec46": {
      "model_module": "@jupyter-widgets/base",
      "model_module_version": "2.0.0",
      "model_name": "LayoutModel",
      "state": {
       "_model_module": "@jupyter-widgets/base",
       "_model_module_version": "2.0.0",
       "_model_name": "LayoutModel",
       "_view_count": null,
       "_view_module": "@jupyter-widgets/base",
       "_view_module_version": "2.0.0",
       "_view_name": "LayoutView",
       "align_content": null,
       "align_items": null,
       "align_self": null,
       "border_bottom": null,
       "border_left": null,
       "border_right": null,
       "border_top": null,
       "bottom": null,
       "display": null,
       "flex": null,
       "flex_flow": null,
       "grid_area": null,
       "grid_auto_columns": null,
       "grid_auto_flow": null,
       "grid_auto_rows": null,
       "grid_column": null,
       "grid_gap": null,
       "grid_row": null,
       "grid_template_areas": null,
       "grid_template_columns": null,
       "grid_template_rows": null,
       "height": null,
       "justify_content": null,
       "justify_items": null,
       "left": null,
       "margin": null,
       "max_height": null,
       "max_width": null,
       "min_height": null,
       "min_width": null,
       "object_fit": null,
       "object_position": null,
       "order": null,
       "overflow": null,
       "padding": null,
       "right": null,
       "top": null,
       "visibility": null,
       "width": null
      }
     },
     "3b9fb2575c76464fa00fd76ab082c4d0": {
      "model_module": "@jupyter-widgets/base",
      "model_module_version": "2.0.0",
      "model_name": "LayoutModel",
      "state": {
       "_model_module": "@jupyter-widgets/base",
       "_model_module_version": "2.0.0",
       "_model_name": "LayoutModel",
       "_view_count": null,
       "_view_module": "@jupyter-widgets/base",
       "_view_module_version": "2.0.0",
       "_view_name": "LayoutView",
       "align_content": null,
       "align_items": null,
       "align_self": null,
       "border_bottom": null,
       "border_left": null,
       "border_right": null,
       "border_top": null,
       "bottom": null,
       "display": null,
       "flex": null,
       "flex_flow": null,
       "grid_area": null,
       "grid_auto_columns": null,
       "grid_auto_flow": null,
       "grid_auto_rows": null,
       "grid_column": null,
       "grid_gap": null,
       "grid_row": null,
       "grid_template_areas": null,
       "grid_template_columns": null,
       "grid_template_rows": null,
       "height": null,
       "justify_content": null,
       "justify_items": null,
       "left": null,
       "margin": null,
       "max_height": null,
       "max_width": null,
       "min_height": null,
       "min_width": null,
       "object_fit": null,
       "object_position": null,
       "order": null,
       "overflow": null,
       "padding": null,
       "right": null,
       "top": null,
       "visibility": null,
       "width": null
      }
     },
     "3cb38cf5ebdf43208d13f36821628831": {
      "model_module": "@jupyter-widgets/base",
      "model_module_version": "2.0.0",
      "model_name": "LayoutModel",
      "state": {
       "_model_module": "@jupyter-widgets/base",
       "_model_module_version": "2.0.0",
       "_model_name": "LayoutModel",
       "_view_count": null,
       "_view_module": "@jupyter-widgets/base",
       "_view_module_version": "2.0.0",
       "_view_name": "LayoutView",
       "align_content": null,
       "align_items": null,
       "align_self": null,
       "border_bottom": null,
       "border_left": null,
       "border_right": null,
       "border_top": null,
       "bottom": null,
       "display": null,
       "flex": null,
       "flex_flow": null,
       "grid_area": null,
       "grid_auto_columns": null,
       "grid_auto_flow": null,
       "grid_auto_rows": null,
       "grid_column": null,
       "grid_gap": null,
       "grid_row": null,
       "grid_template_areas": null,
       "grid_template_columns": null,
       "grid_template_rows": null,
       "height": null,
       "justify_content": null,
       "justify_items": null,
       "left": null,
       "margin": null,
       "max_height": null,
       "max_width": null,
       "min_height": null,
       "min_width": null,
       "object_fit": null,
       "object_position": null,
       "order": null,
       "overflow": null,
       "padding": null,
       "right": null,
       "top": null,
       "visibility": null,
       "width": null
      }
     },
     "8a8b64c4f7a444bc950653df79d4321c": {
      "model_module": "@jupyter-widgets/controls",
      "model_module_version": "2.0.0",
      "model_name": "VBoxModel",
      "state": {
       "_dom_classes": [
        "widget-interact"
       ],
       "_model_module": "@jupyter-widgets/controls",
       "_model_module_version": "2.0.0",
       "_model_name": "VBoxModel",
       "_view_count": null,
       "_view_module": "@jupyter-widgets/controls",
       "_view_module_version": "2.0.0",
       "_view_name": "VBoxView",
       "box_style": "",
       "children": [
        "IPY_MODEL_a0a55e57177a4426b2f91a24b28f8837",
        "IPY_MODEL_f0c9916ea1314819a656843e2fe18585"
       ],
       "layout": "IPY_MODEL_3410b0d0b99a417bb7e32639d159ec46",
       "tabbable": null,
       "tooltip": null
      }
     },
     "9e4281388fe14e52950988645c597f3b": {
      "model_module": "@jupyter-widgets/base",
      "model_module_version": "2.0.0",
      "model_name": "LayoutModel",
      "state": {
       "_model_module": "@jupyter-widgets/base",
       "_model_module_version": "2.0.0",
       "_model_name": "LayoutModel",
       "_view_count": null,
       "_view_module": "@jupyter-widgets/base",
       "_view_module_version": "2.0.0",
       "_view_name": "LayoutView",
       "align_content": null,
       "align_items": null,
       "align_self": null,
       "border_bottom": null,
       "border_left": null,
       "border_right": null,
       "border_top": null,
       "bottom": null,
       "display": null,
       "flex": null,
       "flex_flow": null,
       "grid_area": null,
       "grid_auto_columns": null,
       "grid_auto_flow": null,
       "grid_auto_rows": null,
       "grid_column": null,
       "grid_gap": null,
       "grid_row": null,
       "grid_template_areas": null,
       "grid_template_columns": null,
       "grid_template_rows": null,
       "height": null,
       "justify_content": null,
       "justify_items": null,
       "left": null,
       "margin": null,
       "max_height": null,
       "max_width": null,
       "min_height": null,
       "min_width": null,
       "object_fit": null,
       "object_position": null,
       "order": null,
       "overflow": null,
       "padding": null,
       "right": null,
       "top": null,
       "visibility": null,
       "width": null
      }
     },
     "a0a55e57177a4426b2f91a24b28f8837": {
      "model_module": "@jupyter-widgets/controls",
      "model_module_version": "2.0.0",
      "model_name": "IntSliderModel",
      "state": {
       "_dom_classes": [],
       "_model_module": "@jupyter-widgets/controls",
       "_model_module_version": "2.0.0",
       "_model_name": "IntSliderModel",
       "_view_count": null,
       "_view_module": "@jupyter-widgets/controls",
       "_view_module_version": "2.0.0",
       "_view_name": "IntSliderView",
       "behavior": "drag-tap",
       "continuous_update": true,
       "description": "sd",
       "description_allow_html": false,
       "disabled": false,
       "layout": "IPY_MODEL_3b9fb2575c76464fa00fd76ab082c4d0",
       "max": 400,
       "min": 1,
       "orientation": "horizontal",
       "readout": true,
       "readout_format": "d",
       "step": 1,
       "style": "IPY_MODEL_a5720d32a7294fefb558fdfecd0eaf9b",
       "tabbable": null,
       "tooltip": null,
       "value": 200
      }
     },
     "a5720d32a7294fefb558fdfecd0eaf9b": {
      "model_module": "@jupyter-widgets/controls",
      "model_module_version": "2.0.0",
      "model_name": "SliderStyleModel",
      "state": {
       "_model_module": "@jupyter-widgets/controls",
       "_model_module_version": "2.0.0",
       "_model_name": "SliderStyleModel",
       "_view_count": null,
       "_view_module": "@jupyter-widgets/base",
       "_view_module_version": "2.0.0",
       "_view_name": "StyleView",
       "description_width": "",
       "handle_color": null
      }
     },
     "c6c76577afe44355b0aeb800e93d5cf7": {
      "model_module": "@jupyter-widgets/controls",
      "model_module_version": "2.0.0",
      "model_name": "VBoxModel",
      "state": {
       "_dom_classes": [
        "widget-interact"
       ],
       "_model_module": "@jupyter-widgets/controls",
       "_model_module_version": "2.0.0",
       "_model_name": "VBoxModel",
       "_view_count": null,
       "_view_module": "@jupyter-widgets/controls",
       "_view_module_version": "2.0.0",
       "_view_name": "VBoxView",
       "box_style": "",
       "children": [
        "IPY_MODEL_25f701cf000a494e89b3e8ed666a2a22",
        "IPY_MODEL_e61220914c08497a8a6e967e0860cb3c"
       ],
       "layout": "IPY_MODEL_3cb38cf5ebdf43208d13f36821628831",
       "tabbable": null,
       "tooltip": null
      }
     },
     "e61220914c08497a8a6e967e0860cb3c": {
      "model_module": "@jupyter-widgets/output",
      "model_module_version": "1.0.0",
      "model_name": "OutputModel",
      "state": {
       "_dom_classes": [],
       "_model_module": "@jupyter-widgets/output",
       "_model_module_version": "1.0.0",
       "_model_name": "OutputModel",
       "_view_count": null,
       "_view_module": "@jupyter-widgets/output",
       "_view_module_version": "1.0.0",
       "_view_name": "OutputView",
       "layout": "IPY_MODEL_1b6632a762b646bbacfe7d82a0e6d84b",
       "msg_id": "",
       "outputs": [
        {
         "data": {
          "image/png": "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",
          "text/plain": "<Figure size 1200x600 with 2 Axes>"
         },
         "metadata": {},
         "output_type": "display_data"
        }
       ],
       "tabbable": null,
       "tooltip": null
      }
     },
     "e6e4aab2cc854d1cb8a9b042c678de9e": {
      "model_module": "@jupyter-widgets/base",
      "model_module_version": "2.0.0",
      "model_name": "LayoutModel",
      "state": {
       "_model_module": "@jupyter-widgets/base",
       "_model_module_version": "2.0.0",
       "_model_name": "LayoutModel",
       "_view_count": null,
       "_view_module": "@jupyter-widgets/base",
       "_view_module_version": "2.0.0",
       "_view_name": "LayoutView",
       "align_content": null,
       "align_items": null,
       "align_self": null,
       "border_bottom": null,
       "border_left": null,
       "border_right": null,
       "border_top": null,
       "bottom": null,
       "display": null,
       "flex": null,
       "flex_flow": null,
       "grid_area": null,
       "grid_auto_columns": null,
       "grid_auto_flow": null,
       "grid_auto_rows": null,
       "grid_column": null,
       "grid_gap": null,
       "grid_row": null,
       "grid_template_areas": null,
       "grid_template_columns": null,
       "grid_template_rows": null,
       "height": null,
       "justify_content": null,
       "justify_items": null,
       "left": null,
       "margin": null,
       "max_height": null,
       "max_width": null,
       "min_height": null,
       "min_width": null,
       "object_fit": null,
       "object_position": null,
       "order": null,
       "overflow": null,
       "padding": null,
       "right": null,
       "top": null,
       "visibility": null,
       "width": null
      }
     },
     "f0c9916ea1314819a656843e2fe18585": {
      "model_module": "@jupyter-widgets/output",
      "model_module_version": "1.0.0",
      "model_name": "OutputModel",
      "state": {
       "_dom_classes": [],
       "_model_module": "@jupyter-widgets/output",
       "_model_module_version": "1.0.0",
       "_model_name": "OutputModel",
       "_view_count": null,
       "_view_module": "@jupyter-widgets/output",
       "_view_module_version": "1.0.0",
       "_view_name": "OutputView",
       "layout": "IPY_MODEL_e6e4aab2cc854d1cb8a9b042c678de9e",
       "msg_id": "",
       "outputs": [
        {
         "data": {
          "image/png": "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",
          "text/plain": "<Figure size 768x576 with 1 Axes>"
         },
         "metadata": {},
         "output_type": "display_data"
        }
       ],
       "tabbable": null,
       "tooltip": null
      }
     }
    },
    "version_major": 2,
    "version_minor": 0
   }
  }
 },
 "nbformat": 4,
 "nbformat_minor": 4
}